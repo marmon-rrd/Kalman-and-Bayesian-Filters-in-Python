{
 "cells": [
  {
   "cell_type": "code",
   "execution_count": 11,
   "metadata": {},
   "outputs": [
    {
     "ename": "ModuleNotFoundError",
     "evalue": "No module named 'kf_book'",
     "output_type": "error",
     "traceback": [
      "\u001b[1;31m---------------------------------------------------------------------------\u001b[0m",
      "\u001b[1;31mModuleNotFoundError\u001b[0m                       Traceback (most recent call last)",
      "\u001b[1;32m<ipython-input-11-55e131123491>\u001b[0m in \u001b[0;36m<module>\u001b[1;34m\u001b[0m\n\u001b[0;32m      8\u001b[0m \u001b[1;32mimport\u001b[0m \u001b[0msys\u001b[0m\u001b[1;33m\u001b[0m\u001b[1;33m\u001b[0m\u001b[0m\n\u001b[0;32m      9\u001b[0m \u001b[0msys\u001b[0m\u001b[1;33m.\u001b[0m\u001b[0mpath\u001b[0m\u001b[1;33m.\u001b[0m\u001b[0minsert\u001b[0m\u001b[1;33m(\u001b[0m\u001b[1;36m0\u001b[0m\u001b[1;33m,\u001b[0m \u001b[1;34m'../code'\u001b[0m\u001b[1;33m)\u001b[0m \u001b[1;31m# allow us to import book_format\u001b[0m\u001b[1;33m\u001b[0m\u001b[1;33m\u001b[0m\u001b[0m\n\u001b[1;32m---> 10\u001b[1;33m \u001b[1;32mimport\u001b[0m \u001b[0mbook_format\u001b[0m\u001b[1;33m\u001b[0m\u001b[1;33m\u001b[0m\u001b[0m\n\u001b[0m\u001b[0;32m     11\u001b[0m \u001b[0mbook_format\u001b[0m\u001b[1;33m.\u001b[0m\u001b[0mset_style\u001b[0m\u001b[1;33m(\u001b[0m\u001b[1;33m)\u001b[0m\u001b[1;33m\u001b[0m\u001b[1;33m\u001b[0m\u001b[0m\n",
      "\u001b[1;32mc:\\projects\\on_git_hub\\Kalman-and-Bayesian-Filters-in-Python\\experiments\\book_format.py\u001b[0m in \u001b[0;36m<module>\u001b[1;34m\u001b[0m\n\u001b[0;32m     20\u001b[0m \u001b[1;32mimport\u001b[0m \u001b[0msys\u001b[0m\u001b[1;33m\u001b[0m\u001b[1;33m\u001b[0m\u001b[0m\n\u001b[0;32m     21\u001b[0m \u001b[1;32mimport\u001b[0m \u001b[0mwarnings\u001b[0m\u001b[1;33m\u001b[0m\u001b[1;33m\u001b[0m\u001b[0m\n\u001b[1;32m---> 22\u001b[1;33m \u001b[1;32mfrom\u001b[0m \u001b[0mkf_book\u001b[0m\u001b[1;33m.\u001b[0m\u001b[0mbook_plots\u001b[0m \u001b[1;32mimport\u001b[0m \u001b[0mset_figsize\u001b[0m\u001b[1;33m,\u001b[0m \u001b[0mreset_figsize\u001b[0m\u001b[1;33m\u001b[0m\u001b[1;33m\u001b[0m\u001b[0m\n\u001b[0m\u001b[0;32m     23\u001b[0m \u001b[1;33m\u001b[0m\u001b[0m\n\u001b[0;32m     24\u001b[0m \u001b[1;32mdef\u001b[0m \u001b[0mtest_installation\u001b[0m\u001b[1;33m(\u001b[0m\u001b[1;33m)\u001b[0m\u001b[1;33m:\u001b[0m\u001b[1;33m\u001b[0m\u001b[1;33m\u001b[0m\u001b[0m\n",
      "\u001b[1;31mModuleNotFoundError\u001b[0m: No module named 'kf_book'"
     ]
    }
   ],
   "source": [
    "%matplotlib inline\n",
    "from __future__ import division, print_function\n",
    "import matplotlib.pyplot as plt\n",
    "import numpy as np\n",
    "from numpy.random import randn\n",
    "from numpy import array, asarray\n",
    "\n",
    "import sys\n",
    "sys.path.insert(0, '../code') # allow us to import book_format\n",
    "import book_format\n",
    "book_format.set_style()\n"
   ]
  },
  {
   "cell_type": "code",
   "execution_count": null,
   "metadata": {},
   "outputs": [],
   "source": [
    "pos = 1\n",
    "vel = 1\n",
    "p_pos = 1\n",
    "p_move = .5\n",
    "\n",
    "data = [(0,pos+randn()*p_pos) for i in range(1000)]\n",
    "data = np.asarray(data)\n",
    "\n",
    "pos += vel\n",
    "\n",
    "\n",
    "plt.scatter(data[:,0], data[:,1], marker=',')\n",
    "plt.show()\n"
   ]
  },
  {
   "cell_type": "code",
   "execution_count": null,
   "metadata": {},
   "outputs": [],
   "source": [
    "from filterpy.kalman import KalmanFilter\n",
    "from numpy.random import multivariate_normal\n",
    "import matplotlib.cm as cm\n",
    "\n",
    "vel = 20.\n",
    "kf = KalmanFilter(dim_x=2, dim_z=1)\n",
    "kf.F = array([[1, 1], [0, 1]], dtype=float)\n",
    "kf.H = array([[1, 0]])\n",
    "kf.x = array([[0., vel]]).T\n",
    "kf.P *= 100\n",
    "kf.R *= 10\n",
    "kf.Q *= .0001\n",
    "\n",
    "steps = 6\n",
    "colors = cm.winter(np.linspace(0, .5, steps))\n",
    "pcolors = cm.Reds(np.linspace(.5, 1, steps))\n",
    "for i in range(steps):\n",
    "    kf.predict()\n",
    "    x,y = multivariate_normal(mean=kf.x.T[0], cov=kf.P, size=1000).T\n",
    "    plt.scatter(x,y, marker=',', c=pcolors[i])\n",
    "    \n",
    "    z = (i+1)*vel\n",
    "    kf.update(z)\n",
    "    x,y = multivariate_normal(mean=kf.x.T[0], cov=kf.P, size=1000).T\n",
    "    plt.scatter(x,y, marker='.', c=colors[i], alpha=0.7)"
   ]
  },
  {
   "cell_type": "code",
   "execution_count": null,
   "metadata": {},
   "outputs": [],
   "source": [
    "def update(mu1, var1, mu2, var2):\n",
    "    if var1 == 0.0:\n",
    "        var1=1.e-80\n",
    "        \n",
    "    if var2 == 0:\n",
    "        var2 = 1e-80\n",
    "        \n",
    "    mean = (var1*mu2 + var2*mu1) / (var1+var2)\n",
    "    variance = 1. / (1/var1 + 1/var2)\n",
    "    return (mean, variance)\n",
    "\n",
    "\n",
    "\n",
    "def predict(mu1, var1, mu2, var2):\n",
    "    return (mu1+mu2, var1+var2)\n",
    "\n",
    "pos = 0\n",
    "pos_p = 100.\n",
    "move = 1\n",
    "move_p = .1\n",
    "sense_p = 8\n",
    "\n",
    "N = 10\n",
    "colors = cm.winter(np.linspace(0, .5, N))\n",
    "pcolors = cm.Reds(np.linspace(.5, 1, N))\n",
    "for i in range(N):\n",
    "    pos, pos_p = predict(pos, pos_p, move, move_p)\n",
    "    x,y = multivariate_normal(mean=(pos,i), cov=[[0.001, 0],[0, p_pos]], size=1000).T\n",
    "    plt.scatter(x,y, marker=',', c=colors[i])    \n",
    "    print(pos, pos_p)\n",
    "    \n",
    "    pos, pos_p = update(pos, pos_p, i, sense_p)\n",
    "    x,y = multivariate_normal(mean=(i, pos), cov=asarray([[0.001, 0],[0, pos_p]]).T, size=1000).T\n",
    "    plt.scatter(x,y, marker='.', c=pcolors[i], alpha=0.5)  \n",
    "    \n"
   ]
  }
 ],
 "metadata": {
  "kernelspec": {
   "display_name": "Python 3",
   "language": "python",
   "name": "python3"
  },
  "language_info": {
   "codemirror_mode": {
    "name": "ipython",
    "version": 3
   },
   "file_extension": ".py",
   "mimetype": "text/x-python",
   "name": "python",
   "nbconvert_exporter": "python",
   "pygments_lexer": "ipython3",
   "version": "3.8.5"
  }
 },
 "nbformat": 4,
 "nbformat_minor": 1
}
